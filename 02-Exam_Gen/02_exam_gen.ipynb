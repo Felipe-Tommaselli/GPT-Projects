{
 "cells": [
  {
   "cell_type": "markdown",
   "metadata": {},
   "source": [
    "# 02: Exam Generator\n",
    "\n",
    "> \"Discover the power of Artificial Intelligence with OpenAI's powerful API to generate text and images in projects\". Udemy course."
   ]
  },
  {
   "cell_type": "markdown",
   "metadata": {},
   "source": [
    "<img src=\"exam_gen.png\" alt=\"Exam Generator Image\" width=\"500\">\n",
    " "
   ]
  },
  {
   "cell_type": "code",
   "execution_count": 136,
   "metadata": {},
   "outputs": [],
   "source": [
    "import os\n",
    "import openai "
   ]
  },
  {
   "cell_type": "code",
   "execution_count": 137,
   "metadata": {},
   "outputs": [],
   "source": [
    "openai.api_key = os.getenv(\"OPENAI_API_KEY\")"
   ]
  },
  {
   "cell_type": "code",
   "execution_count": 138,
   "metadata": {},
   "outputs": [],
   "source": [
    "def create_test_prompt(topic, num_questions, num_possible_answers): \n",
    "    return f\"Generate a multiple choice quiz about {topic} with {num_questions} questions. Each question with {num_possible_answers} possible answers each.\"\\\n",
    "        + \"Also include the correct answer for each question using the starting string: 'Correct answer: '.\""
   ]
  },
  {
   "cell_type": "code",
   "execution_count": 139,
   "metadata": {},
   "outputs": [],
   "source": [
    "response = openai.chat.completions.create(\n",
    "    model=\"gpt-3.5-turbo\",\n",
    "    messages=[\n",
    "        {\"role\": \"user\", \"content\": create_test_prompt(\"Football Ballon D'or\", 3, 4)},\n",
    "    ],\n",
    "    temperature=0.5,\n",
    "    max_tokens=250,\n",
    ")"
   ]
  },
  {
   "cell_type": "code",
   "execution_count": 140,
   "metadata": {},
   "outputs": [
    {
     "name": "stdout",
     "output_type": "stream",
     "text": [
      "1. Who was the first player to win the Ballon D'or award?\n",
      "a) Lionel Messi\n",
      "b) Cristiano Ronaldo\n",
      "c) George Best\n",
      "d) Stanley Matthews\n",
      "\n",
      "Correct answer: d) Stanley Matthews\n",
      "\n",
      "2. Which country has produced the most Ballon D'or winners?\n",
      "a) Brazil\n",
      "b) Germany\n",
      "c) France\n",
      "d) Argentina\n",
      "\n",
      "Correct answer: a) Brazil\n",
      "\n",
      "3. Who won the Ballon D'or in 2019?\n",
      "a) Lionel Messi\n",
      "b) Cristiano Ronaldo\n",
      "c) Virgil van Dijk\n",
      "d) Luka Modric\n",
      "\n",
      "Correct answer: a) Lionel Messi\n"
     ]
    }
   ],
   "source": [
    "print(response.choices[0].message.content)"
   ]
  },
  {
   "cell_type": "code",
   "execution_count": 141,
   "metadata": {},
   "outputs": [],
   "source": [
    "def student_view(test, num_questions): \n",
    "    student_view = {1:''}\n",
    "    question_number = 1\n",
    "    for line in test.split('\\n'): \n",
    "        if not line.startswith(f\"Correct answer: \"):\n",
    "            student_view[question_number] += line + '\\n'\n",
    "        else:\n",
    "            if question_number < num_questions:\n",
    "                question_number += 1\n",
    "                student_view[question_number] = ''\n",
    "    return student_view"
   ]
  },
  {
   "cell_type": "code",
   "execution_count": 142,
   "metadata": {},
   "outputs": [
    {
     "name": "stdout",
     "output_type": "stream",
     "text": [
      "Question 1: 1. Who was the first player to win the Ballon d'Or?\n",
      "A. Lionel Messi\n",
      "B. Cristiano Ronaldo\n",
      "C. Michel Platini\n",
      "D. Johan Cruyff\n",
      "\n",
      "\n",
      "Question 2: \n",
      "2. Which player has won the most Ballon d'Or awards?\n",
      "A. Lionel Messi\n",
      "B. Cristiano Ronaldo\n",
      "C. Diego Maradona\n",
      "D. Zinedine Zidane\n",
      "\n",
      "\n",
      "Question 3: \n",
      "3. Which country has produced the most Ballon d'Or winners?\n",
      "A. Brazil\n",
      "B. Germany\n",
      "C. France\n",
      "D. Argentina\n",
      "\n",
      "\n"
     ]
    }
   ],
   "source": [
    "student = student_view(response.choices[0].message.content, 3)\n",
    "for key in result: \n",
    "    print(f\"Question {key}: {result[key]}\")"
   ]
  },
  {
   "cell_type": "code",
   "execution_count": 143,
   "metadata": {},
   "outputs": [],
   "source": [
    "def answer_view(test, num_questions): \n",
    "    answers = {1:''}\n",
    "    question_number = 1\n",
    "    for line in test.split('\\n'): \n",
    "        if line.startswith(f\"Correct answer: \"):\n",
    "            answers[question_number] += line + '\\n'\n",
    "            if question_number < num_questions:\n",
    "                question_number += 1\n",
    "                answers[question_number] = ''\n",
    "    return answers"
   ]
  },
  {
   "cell_type": "code",
   "execution_count": 144,
   "metadata": {},
   "outputs": [
    {
     "data": {
      "text/plain": [
       "{1: 'Correct answer: d) Stanley Matthews\\n',\n",
       " 2: 'Correct answer: a) Brazil\\n',\n",
       " 3: 'Correct answer: a) Lionel Messi\\n'}"
      ]
     },
     "execution_count": 144,
     "metadata": {},
     "output_type": "execute_result"
    }
   ],
   "source": [
    "answers = answer_view(response.choices[0].message.content, 3)\n",
    "answers"
   ]
  },
  {
   "cell_type": "markdown",
   "metadata": {},
   "source": [
    "## Take the exam"
   ]
  },
  {
   "cell_type": "code",
   "execution_count": 145,
   "metadata": {},
   "outputs": [],
   "source": [
    "def take(student_view):\n",
    "    student_answers = {}\n",
    "    for question, question_view in student_view.items():\n",
    "        print(question_view)\n",
    "        ans = input(\"Enter your answer:\")\n",
    "        student_answers[question] = ans\n",
    "    return student_answers\n"
   ]
  },
  {
   "cell_type": "code",
   "execution_count": 146,
   "metadata": {},
   "outputs": [
    {
     "name": "stdout",
     "output_type": "stream",
     "text": [
      "1. Who was the first player to win the Ballon D'or award?\n",
      "a) Lionel Messi\n",
      "b) Cristiano Ronaldo\n",
      "c) George Best\n",
      "d) Stanley Matthews\n",
      "\n",
      "\n",
      "\n",
      "2. Which country has produced the most Ballon D'or winners?\n",
      "a) Brazil\n",
      "b) Germany\n",
      "c) France\n",
      "d) Argentina\n",
      "\n",
      "\n",
      "\n",
      "3. Who won the Ballon D'or in 2019?\n",
      "a) Lionel Messi\n",
      "b) Cristiano Ronaldo\n",
      "c) Virgil van Dijk\n",
      "d) Luka Modric\n",
      "\n",
      "\n"
     ]
    }
   ],
   "source": [
    "student_answers = take(student)"
   ]
  },
  {
   "cell_type": "code",
   "execution_count": 147,
   "metadata": {},
   "outputs": [
    {
     "name": "stdout",
     "output_type": "stream",
     "text": [
      "{1: 'd) Stanley Matthews', 2: 'a) Brazil', 3: 'a) Lionel Messi'}\n"
     ]
    }
   ],
   "source": [
    "print(student_answers)"
   ]
  },
  {
   "cell_type": "code",
   "execution_count": 148,
   "metadata": {},
   "outputs": [
    {
     "data": {
      "text/plain": [
       "{1: 'd) Stanley Matthews', 2: 'a) Brazil', 3: 'a) Lionel Messi'}"
      ]
     },
     "execution_count": 148,
     "metadata": {},
     "output_type": "execute_result"
    }
   ],
   "source": [
    "answers_formatted = {key: value.split('Correct answer: ')[1].strip() for key, value in answers.items()}\n",
    "answers_formatted"
   ]
  },
  {
   "cell_type": "code",
   "execution_count": 153,
   "metadata": {},
   "outputs": [],
   "source": [
    "def grade(correct_ans, student_ans):\n",
    "    correct = 0 \n",
    "    for question, ans in student_ans.items():\n",
    "        \n",
    "        if ans.lower() == correct_ans[question].lower():\n",
    "            correct += 1\n",
    "\n",
    "    passing_threshold = 0.6  # Set the passing threshold to 60%\n",
    "    percentage_correct = correct / len(student_ans)\n",
    "    \n",
    "    if percentage_correct >= passing_threshold:\n",
    "        result = f\"Passed, {percentage_correct*100} %\"\n",
    "    else:\n",
    "        result = f\"Not Passed, {percentage_correct*100} %\"\n",
    "    \n",
    "    return result"
   ]
  },
  {
   "cell_type": "code",
   "execution_count": 154,
   "metadata": {},
   "outputs": [
    {
     "data": {
      "text/plain": [
       "'Passed, 100.0 %'"
      ]
     },
     "execution_count": 154,
     "metadata": {},
     "output_type": "execute_result"
    }
   ],
   "source": [
    "grade(answers_formatted, student_answers)"
   ]
  }
 ],
 "metadata": {
  "kernelspec": {
   "display_name": "Python 3",
   "language": "python",
   "name": "python3"
  },
  "language_info": {
   "codemirror_mode": {
    "name": "ipython",
    "version": 3
   },
   "file_extension": ".py",
   "mimetype": "text/x-python",
   "name": "python",
   "nbconvert_exporter": "python",
   "pygments_lexer": "ipython3",
   "version": "3.8.10"
  }
 },
 "nbformat": 4,
 "nbformat_minor": 2
}
