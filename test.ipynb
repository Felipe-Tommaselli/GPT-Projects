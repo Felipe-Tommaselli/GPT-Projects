{
 "cells": [
  {
   "cell_type": "code",
   "execution_count": 43,
   "metadata": {},
   "outputs": [
    {
     "name": "stdout",
     "output_type": "stream",
     "text": [
      "\u001b[H\u001b[2J"
     ]
    }
   ],
   "source": [
    "#!pip3 install openai\n",
    "!clear"
   ]
  },
  {
   "cell_type": "code",
   "execution_count": 44,
   "metadata": {},
   "outputs": [],
   "source": [
    "import openai\n",
    "from openai import OpenAI\n",
    "\n",
    "import os "
   ]
  },
  {
   "cell_type": "code",
   "execution_count": 45,
   "metadata": {},
   "outputs": [],
   "source": [
    "#os.environ[\"OPENAI_API_KEY\"] = \"sk-...\"\n",
    "client = OpenAI(\n",
    "    api_key=os.environ.get(\"OPENAI_API_KEY\"),\n",
    ")"
   ]
  },
  {
   "cell_type": "code",
   "execution_count": 46,
   "metadata": {},
   "outputs": [
    {
     "data": {
      "text/plain": [
       "ChatCompletion(id='chatcmpl-96KIYmh9mzyoqFyx2CToCZ5Eh09dd', choices=[Choice(finish_reason='stop', index=0, logprobs=None, message=ChatCompletionMessage(content='OpenAI API is a powerful artificial intelligence platform that allows developers to access and integrate cutting-edge AI models into their applications. The API offers a range of pre-trained models for natural language processing, text analysis, and other tasks.\\n\\nTo use the OpenAI API, developers first need to sign up for an API key and obtain access to the platform. Once they have the API key, they can make requests to the OpenAI API using HTTP requests and receive responses in JSON format.\\n\\nDevelopers can use the API to perform a variety of tasks, such as generating text, answering questions, summarizing documents, and more. They can pass input data to the API and receive back the AI-generated output, which can then be used in their applications.\\n\\nThe OpenAI API is designed to be easy to use, with comprehensive documentation and examples provided to help developers get started quickly. It also offers high-level language libraries and SDKs for popular programming languages like Python, making it easy to integrate the API into existing projects.', role='assistant', function_call=None, tool_calls=None))], created=1711295022, model='gpt-3.5-turbo-0125', object='chat.completion', system_fingerprint='fp_3bc1b5746c', usage=CompletionUsage(completion_tokens=201, prompt_tokens=17, total_tokens=218))"
      ]
     },
     "execution_count": 46,
     "metadata": {},
     "output_type": "execute_result"
    }
   ],
   "source": [
    "chat_completion = client.chat.completions.create(\n",
    "    messages=[\n",
    "        {\n",
    "            \"role\": \"user\",\n",
    "            \"content\": \"Explain to me how OPenAi API works\",\n",
    "        }\n",
    "    ],\n",
    "    model=\"gpt-3.5-turbo\",\n",
    ")\n",
    "\n",
    "chat_completion"
   ]
  },
  {
   "cell_type": "code",
   "execution_count": 48,
   "metadata": {},
   "outputs": [
    {
     "name": "stdout",
     "output_type": "stream",
     "text": [
      "OpenAI API is a powerful artificial intelligence platform that allows developers to access and integrate cutting-edge AI models into their applications. The API offers a range of pre-trained models for natural language processing, text analysis, and other tasks.\n",
      "\n",
      "To use the OpenAI API, developers first need to sign up for an API key and obtain access to the platform. Once they have the API key, they can make requests to the OpenAI API using HTTP requests and receive responses in JSON format.\n",
      "\n",
      "Developers can use the API to perform a variety of tasks, such as generating text, answering questions, summarizing documents, and more. They can pass input data to the API and receive back the AI-generated output, which can then be used in their applications.\n",
      "\n",
      "The OpenAI API is designed to be easy to use, with comprehensive documentation and examples provided to help developers get started quickly. It also offers high-level language libraries and SDKs for popular programming languages like Python, making it easy to integrate the API into existing projects.\n"
     ]
    }
   ],
   "source": [
    "print(chat_completion.choices[0].message.content)"
   ]
  },
  {
   "cell_type": "code",
   "execution_count": null,
   "metadata": {},
   "outputs": [],
   "source": []
  }
 ],
 "metadata": {
  "kernelspec": {
   "display_name": "Python 3",
   "language": "python",
   "name": "python3"
  },
  "language_info": {
   "codemirror_mode": {
    "name": "ipython",
    "version": 3
   },
   "file_extension": ".py",
   "mimetype": "text/x-python",
   "name": "python",
   "nbconvert_exporter": "python",
   "pygments_lexer": "ipython3",
   "version": "3.8.10"
  }
 },
 "nbformat": 4,
 "nbformat_minor": 2
}
