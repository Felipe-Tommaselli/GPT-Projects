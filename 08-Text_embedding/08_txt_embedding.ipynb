{
 "cells": [
  {
   "cell_type": "markdown",
   "metadata": {},
   "source": [
    "# 08: Text Embedding for Question and Answering\n",
    "\n",
    "> \"Discover the power of Artificial Intelligence with OpenAI's powerful API to generate text and images in projects\". Udemy course."
   ]
  },
  {
   "cell_type": "markdown",
   "metadata": {},
   "source": [
    "Text embedding:\n",
    "* text embedding != fine tunning"
   ]
  },
  {
   "cell_type": "code",
   "execution_count": 147,
   "metadata": {},
   "outputs": [],
   "source": [
    "import os\n",
    "import openai\n",
    "import numpy as np"
   ]
  },
  {
   "cell_type": "code",
   "execution_count": 148,
   "metadata": {},
   "outputs": [],
   "source": [
    "#os.environ[\"OPENAI_API_KEY\"] = \"sk-\"\n",
    "openai.api_key = os.getenv(\"OPENAI_API_KEY\")"
   ]
  },
  {
   "cell_type": "code",
   "execution_count": 149,
   "metadata": {},
   "outputs": [],
   "source": [
    "def gpt_call(prompt):\n",
    "    response = openai.chat.completions.create(\n",
    "        model=\"gpt-3.5-turbo\",\n",
    "        messages=[\n",
    "            {\"role\": \"user\", \"content\": prompt},\n",
    "        ],\n",
    "        temperature=0,\n",
    "        max_tokens=1024,\n",
    "    )\n",
    "    return response.choices[0].message.content"
   ]
  },
  {
   "cell_type": "markdown",
   "metadata": {},
   "source": [
    "# Model hallucination"
   ]
  },
  {
   "cell_type": "code",
   "execution_count": 150,
   "metadata": {},
   "outputs": [
    {
     "name": "stdout",
     "output_type": "stream",
     "text": [
      "Manchester City has won the UEFA Champions League once, in the 2020-2021 season.\n"
     ]
    }
   ],
   "source": [
    "ans = gpt_call('Q:How many champions league does Manchester City won?\\nA: ') # Chelsea won 1-0 vs City\n",
    "print(ans)"
   ]
  },
  {
   "cell_type": "code",
   "execution_count": 151,
   "metadata": {},
   "outputs": [],
   "source": [
    "prompt = '''Only answer the question if you are 100\\% sure about the answer. If you are not sure, please say so. \n",
    "\n",
    "Q: How many champions league does Manchester City won?\n",
    "A: \n",
    "'''"
   ]
  },
  {
   "cell_type": "code",
   "execution_count": 152,
   "metadata": {},
   "outputs": [
    {
     "name": "stdout",
     "output_type": "stream",
     "text": [
      "Manchester City has won the UEFA Champions League once, in the 2020-2021 season.\n"
     ]
    }
   ],
   "source": [
    "ans = gpt_call(prompt)\n",
    "print(ans)"
   ]
  },
  {
   "cell_type": "markdown",
   "metadata": {},
   "source": [
    "## Text Embedding context added"
   ]
  },
  {
   "cell_type": "code",
   "execution_count": 153,
   "metadata": {},
   "outputs": [
    {
     "data": {
      "text/html": [
       "<div>\n",
       "<style scoped>\n",
       "    .dataframe tbody tr th:only-of-type {\n",
       "        vertical-align: middle;\n",
       "    }\n",
       "\n",
       "    .dataframe tbody tr th {\n",
       "        vertical-align: top;\n",
       "    }\n",
       "\n",
       "    .dataframe thead th {\n",
       "        text-align: right;\n",
       "    }\n",
       "</style>\n",
       "<table border=\"1\" class=\"dataframe\">\n",
       "  <thead>\n",
       "    <tr style=\"text-align: right;\">\n",
       "      <th></th>\n",
       "      <th>Date</th>\n",
       "      <th>Club     Club     Manager</th>\n",
       "    </tr>\n",
       "  </thead>\n",
       "  <tbody>\n",
       "    <tr>\n",
       "      <th>0</th>\n",
       "      <td>22/23</td>\n",
       "      <td>\\tManchester City FC\\tManchester City FC\\tPep ...</td>\n",
       "    </tr>\n",
       "    <tr>\n",
       "      <th>1</th>\n",
       "      <td>21/22</td>\n",
       "      <td>\\tReal Madrid CF\\tReal Madrid CF\\tCarlo Ancelotti</td>\n",
       "    </tr>\n",
       "    <tr>\n",
       "      <th>2</th>\n",
       "      <td>20/21</td>\n",
       "      <td>\\tChelsea FC\\tChelsea FC\\tThomas Tuchel</td>\n",
       "    </tr>\n",
       "    <tr>\n",
       "      <th>3</th>\n",
       "      <td>19/20</td>\n",
       "      <td>\\tFC Bayern Munique\\tFC Bayern Munique\\tHansi ...</td>\n",
       "    </tr>\n",
       "    <tr>\n",
       "      <th>4</th>\n",
       "      <td>18/19</td>\n",
       "      <td>\\tFC Liverpool\\tFC Liverpool\\tJürgen Klopp</td>\n",
       "    </tr>\n",
       "  </tbody>\n",
       "</table>\n",
       "</div>"
      ],
      "text/plain": [
       "    Date                          Club     Club     Manager\n",
       "0  22/23  \\tManchester City FC\\tManchester City FC\\tPep ...\n",
       "1  21/22  \\tReal Madrid CF\\tReal Madrid CF\\tCarlo Ancelotti\n",
       "2  20/21            \\tChelsea FC\\tChelsea FC\\tThomas Tuchel\n",
       "3  19/20  \\tFC Bayern Munique\\tFC Bayern Munique\\tHansi ...\n",
       "4  18/19         \\tFC Liverpool\\tFC Liverpool\\tJürgen Klopp"
      ]
     },
     "execution_count": 153,
     "metadata": {},
     "output_type": "execute_result"
    }
   ],
   "source": [
    "import pandas as pd \n",
    "df = pd.read_csv('champions.csv')\n",
    "df.head()"
   ]
  },
  {
   "cell_type": "code",
   "execution_count": 154,
   "metadata": {},
   "outputs": [],
   "source": [
    "def summary(date, winner_str):\n",
    "    print(winner_str)\n",
    "    winner_list = winner_str.strip().split('\\\\t')\n",
    "    print(winner_list)\n",
    "    _, winner, _, manager = winner_list\n",
    "    prompt = f'''The {date} Champions league winner was {winner} and the manager was {manager}.'''\n",
    "    return prompt"
   ]
  },
  {
   "cell_type": "code",
   "execution_count": 155,
   "metadata": {},
   "outputs": [
    {
     "name": "stdout",
     "output_type": "stream",
     "text": [
      " \\tChelsea FC\\tChelsea FC\\tThomas Tuchel\n"
     ]
    }
   ],
   "source": [
    "key = '20/21'\n",
    "row = df.loc[df['Date'] == key]\n",
    "row2 = row.iloc[:, 1]\n",
    "print(row2.to_string(index=False, header=False))"
   ]
  },
  {
   "cell_type": "code",
   "execution_count": 156,
   "metadata": {},
   "outputs": [
    {
     "name": "stdout",
     "output_type": "stream",
     "text": [
      " \\tChelsea FC\\tChelsea FC\\tThomas Tuchel\n",
      "['', 'Chelsea FC', 'Chelsea FC', 'Thomas Tuchel']\n",
      "The 20/21 Champions league winner was Chelsea FC and the manager was Thomas Tuchel.\n"
     ]
    }
   ],
   "source": [
    "summ = summary(key, row2.to_string(index=False, header=False))\n",
    "print(summ)"
   ]
  },
  {
   "cell_type": "markdown",
   "metadata": {},
   "source": [
    "## Embedding"
   ]
  },
  {
   "cell_type": "code",
   "execution_count": 157,
   "metadata": {},
   "outputs": [],
   "source": [
    "def get_embedding(text, model=\"text-embedding-3-small\"):\n",
    "    text = text.replace(\"\\n\", \" \")\n",
    "    return openai.embeddings.create(input = [text], model=model).data[0].embedding"
   ]
  },
  {
   "cell_type": "code",
   "execution_count": 158,
   "metadata": {},
   "outputs": [
    {
     "data": {
      "text/plain": [
       "(1536, 1536)"
      ]
     },
     "execution_count": 158,
     "metadata": {},
     "output_type": "execute_result"
    }
   ],
   "source": [
    "summ_emb = get_embedding(summ)\n",
    "prompt_emb = get_embedding(prompt)\n",
    "len(summ_emb), len(prompt_emb)"
   ]
  },
  {
   "cell_type": "markdown",
   "metadata": {},
   "source": [
    "## Vector similarity"
   ]
  },
  {
   "cell_type": "code",
   "execution_count": 159,
   "metadata": {},
   "outputs": [],
   "source": [
    "def numpy_similarity(emb1, emb2):\n",
    "    return np.dot(np.array(emb1), np.array(emb2))"
   ]
  },
  {
   "cell_type": "code",
   "execution_count": 160,
   "metadata": {},
   "outputs": [
    {
     "data": {
      "text/plain": [
       "0.3387965771147252"
      ]
     },
     "execution_count": 160,
     "metadata": {},
     "output_type": "execute_result"
    }
   ],
   "source": [
    "sim = numpy_similarity(summ_emb, prompt_emb)\n",
    "\n",
    "sim"
   ]
  },
  {
   "cell_type": "code",
   "execution_count": 161,
   "metadata": {},
   "outputs": [
    {
     "name": "stdout",
     "output_type": "stream",
     "text": [
      "Context:The 20/21 Champions league winner was Chelsea FC and the manager was Thomas Tuchel.\n",
      "Only answer the question if you are 100\\% sure about the answer. If you are not sure, please say so. \n",
      "\n",
      "Q: How many champions league does Manchester City won?\n",
      "A: \n",
      "\n"
     ]
    }
   ],
   "source": [
    "prompt2 = f'Context:{summ}\\n{prompt}'\n",
    "print(prompt2)"
   ]
  },
  {
   "cell_type": "code",
   "execution_count": 162,
   "metadata": {},
   "outputs": [
    {
     "name": "stdout",
     "output_type": "stream",
     "text": [
      "Manchester City has won the Champions League 0 times.\n"
     ]
    }
   ],
   "source": [
    "print(gpt_call(prompt2))"
   ]
  },
  {
   "cell_type": "markdown",
   "metadata": {},
   "source": [
    "**Real world cenario you add this \"similarity\" to your table with each line. Then you add the context with most similarity to the question.**"
   ]
  }
 ],
 "metadata": {
  "kernelspec": {
   "display_name": "Python 3",
   "language": "python",
   "name": "python3"
  },
  "language_info": {
   "codemirror_mode": {
    "name": "ipython",
    "version": 3
   },
   "file_extension": ".py",
   "mimetype": "text/x-python",
   "name": "python",
   "nbconvert_exporter": "python",
   "pygments_lexer": "ipython3",
   "version": "3.8.10"
  }
 },
 "nbformat": 4,
 "nbformat_minor": 2
}
