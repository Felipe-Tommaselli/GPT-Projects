{
 "cells": [
  {
   "cell_type": "markdown",
   "metadata": {},
   "source": [
    "# 04: Automatic Blog Post Creator\n",
    "\n",
    "> \"Discover the power of Artificial Intelligence with OpenAI's powerful API to generate text and images in projects\". Udemy course."
   ]
  },
  {
   "cell_type": "code",
   "execution_count": 187,
   "metadata": {},
   "outputs": [],
   "source": [
    "import os\n",
    "import openai "
   ]
  },
  {
   "cell_type": "code",
   "execution_count": 188,
   "metadata": {},
   "outputs": [],
   "source": [
    "#os.environ[\"OPENAI_API_KEY\"] = \"\"\n",
    "openai.api_key = os.getenv(\"OPENAI_API_KEY\")"
   ]
  },
  {
   "cell_type": "markdown",
   "metadata": {},
   "source": [
    "## Git Automatic Update"
   ]
  },
  {
   "cell_type": "code",
   "execution_count": 189,
   "metadata": {},
   "outputs": [],
   "source": [
    "from git import Repo\n",
    "import git\n",
    "from pathlib import Path"
   ]
  },
  {
   "cell_type": "code",
   "execution_count": 190,
   "metadata": {},
   "outputs": [
    {
     "data": {
      "text/plain": [
       "'/home/tommaselli/Documents/GPT-Projects/04-Post_Creator'"
      ]
     },
     "execution_count": 190,
     "metadata": {},
     "output_type": "execute_result"
    }
   ],
   "source": [
    "pwd"
   ]
  },
  {
   "cell_type": "code",
   "execution_count": 191,
   "metadata": {},
   "outputs": [],
   "source": [
    "PATH_BLOG_REPO = Path('/home/tommaselli/Documents/GPT-Projects/.git')\n",
    "PATH_BLOG = PATH_BLOG_REPO.parent \n",
    "PATH_CONTENT =PATH_BLOG/'content'"
   ]
  },
  {
   "cell_type": "code",
   "execution_count": 192,
   "metadata": {},
   "outputs": [],
   "source": [
    "PATH_CONTENT.mkdir(exist_ok=True,parents=True)"
   ]
  },
  {
   "cell_type": "code",
   "execution_count": 193,
   "metadata": {},
   "outputs": [],
   "source": [
    "def update_blog(commit_message='updates blog'):\n",
    "    # GitPython -- Repo Locatio \n",
    "    repo = Repo(PATH_BLOG_REPO)\n",
    "    # git add .\n",
    "    repo.git.add(all=True)\n",
    "    # git commit -m \"updates blog\"\n",
    "    repo.index.commit(commit_message)\n",
    "    origin = repo.remote(name='origin')\n",
    "    origin.push()"
   ]
  },
  {
   "cell_type": "markdown",
   "metadata": {},
   "source": [
    "update in github (working):"
   ]
  },
  {
   "cell_type": "code",
   "execution_count": 194,
   "metadata": {},
   "outputs": [],
   "source": [
    "random_text = 'orkepofmkmwẽw'"
   ]
  },
  {
   "cell_type": "code",
   "execution_count": 195,
   "metadata": {},
   "outputs": [],
   "source": [
    "#with open(PATH_BLOG/'index.html', 'w') as f:\n",
    "#    f.write(random_text)\n",
    "\n",
    "#update_blog()"
   ]
  },
  {
   "cell_type": "markdown",
   "metadata": {},
   "source": [
    "## Insert HTML with GPT"
   ]
  },
  {
   "cell_type": "code",
   "execution_count": 196,
   "metadata": {},
   "outputs": [],
   "source": [
    "import shutil"
   ]
  },
  {
   "cell_type": "code",
   "execution_count": 197,
   "metadata": {},
   "outputs": [],
   "source": [
    "def create_new_blog(title, content, cover_image): \n",
    "    cover_image = Path(cover_image)\n",
    "\n",
    "    files = len(list(PATH_CONTENT.glob('*.html')))\n",
    "    new_title = f'{files+1}.html'\n",
    "    path_new_content = PATH_CONTENT/new_title\n",
    "\n",
    "    shutil.copy(cover_iamge, PATH_CONTENT)\n",
    "    if not os.path.exists(path_new_content):\n",
    "        # WRITE A NEW HTML FILE\n",
    "        with open(path_new_content, 'w') as f:\n",
    "            f.write('<!DOCTYPE html>\\n')\n",
    "def create_new_blog(title, content, cover_image): \n",
    "    cover_image = Path(cover_image)\n",
    "\n",
    "    files = len(list(PATH_CONTENT.glob('*.html')))\n",
    "    new_title = f'{files+1}.html'\n",
    "    path_new_content = PATH_CONTENT/new_title\n",
    "\n",
    "    shutil.copy(cover_image, PATH_CONTENT)\n",
    "    if not os.path.exists(path_new_content):\n",
    "        # WRITE A NEW HTML FILE\n",
    "        with open(path_new_content, 'w') as f:\n",
    "            f.write('<!DOCTYPE html>\\n')\n",
    "            f.write('<html>\\n')\n",
    "            f.write('<head>\\n')\n",
    "            f.write('<title>' + title + '</title>\\n')\n",
    "            f.write('</head>\\n')\n",
    "            f.write('<body>\\n')\n",
    "            f.write('<header>\\n')\n",
    "            f.write('<h1>' + title + '</h1>\\n')\n",
    "            f.write('</header>\\n')\n",
    "            f.write('<img src=\"' + cover_image.name + '\">\\n')\n",
    "            ### GPT completion\n",
    "\n",
    "            f.write(content.replace('\\n', '<br>\\n'))\n",
    "            f.write('</body>\\n')\n",
    "            f.write('</html>\\n')\n",
    "            print('Blog created')\n",
    "            return path_new_content\n",
    "            \n",
    "    else: \n",
    "        raise FileExistsError('File already exists')"
   ]
  },
  {
   "cell_type": "code",
   "execution_count": 198,
   "metadata": {},
   "outputs": [
    {
     "name": "stdout",
     "output_type": "stream",
     "text": [
      "Blog created\n"
     ]
    }
   ],
   "source": [
    "path_new_content = create_new_blog('Test Blog', 'This is a test blog', 'cover.png')"
   ]
  },
  {
   "cell_type": "code",
   "execution_count": 199,
   "metadata": {},
   "outputs": [],
   "source": [
    "from bs4 import BeautifulSoup as Soup"
   ]
  },
  {
   "cell_type": "code",
   "execution_count": 200,
   "metadata": {},
   "outputs": [],
   "source": [
    "with open(PATH_BLOG/'index.html') as index:\n",
    "    soup = Soup(index.read())"
   ]
  },
  {
   "cell_type": "code",
   "execution_count": 201,
   "metadata": {},
   "outputs": [
    {
     "data": {
      "text/plain": [
       "'<html>\\n<head>\\n<title>\\n   Page\\n  </title>\\n</head>\\n<body>\\n</body>\\n</html>\\n'"
      ]
     },
     "execution_count": 201,
     "metadata": {},
     "output_type": "execute_result"
    }
   ],
   "source": [
    "str(soup)"
   ]
  },
  {
   "cell_type": "code",
   "execution_count": 202,
   "metadata": {},
   "outputs": [],
   "source": [
    "# checking duplicate links \n",
    "def check_duplicate(path_new_content, links):\n",
    "    urls = [str(link.get('href')) for link in links] # 1.html, 2.html, 3.html...\n",
    "    content_path = str(Path(*path_new_content.parts[-2:])) # (rel_path)/1.html, check if 1.html is in urls\n",
    "    return content_path in urls"
   ]
  },
  {
   "cell_type": "code",
   "execution_count": 203,
   "metadata": {},
   "outputs": [],
   "source": [
    "def write_index(path_new_content):\n",
    "    with open(PATH_BLOG/'index.html') as index:\n",
    "        soup = Soup(index.read())\n",
    "\n",
    "    links = soup.find_all('a')\n",
    "    try: \n",
    "        last_link = links[-1]\n",
    "    except: \n",
    "        last_link = soup.new_tag('a')\n",
    "        soup.append(last_link)\n",
    "\n",
    "    if check_duplicate(path_new_content, links):\n",
    "        raise ValueError('Duplicate link found')\n",
    "\n",
    "    link_new_blog = soup.new_tag('a', href=Path(*path_new_content.parts[-2:]))\n",
    "    link_new_blog.string = path_new_content.name.split('.')[0]\n",
    "    last_link.insert_after(link_new_blog)\n",
    "\n",
    "    with open(PATH_BLOG/'index.html', 'w') as index:\n",
    "        index.write(str(soup.prettify(formatter='html')))"
   ]
  },
  {
   "cell_type": "code",
   "execution_count": 204,
   "metadata": {},
   "outputs": [],
   "source": [
    "write_index(path_new_content)\n",
    "update_blog('Added new blog')"
   ]
  },
  {
   "cell_type": "markdown",
   "metadata": {},
   "source": [
    "# Add GPT"
   ]
  },
  {
   "cell_type": "code",
   "execution_count": 205,
   "metadata": {},
   "outputs": [],
   "source": [
    "def create_prompt(title):\n",
    "    prompt = ''' \n",
    "    Biography: My name is Felipe and I am a Python professional and instructor for coding.\n",
    "\n",
    "    Blog\n",
    "    Title: {}\n",
    "    tags: tech, python, coding, AI machine learning\n",
    "    Summarry: I talk about what the future of AI could hold for python developers\n",
    "    Full text: \n",
    "    '''.format(title)\n",
    "    return prompt "
   ]
  },
  {
   "cell_type": "code",
   "execution_count": 206,
   "metadata": {},
   "outputs": [
    {
     "data": {
      "text/plain": [
       "' \\n    Biography: My name is Felipe and I am a Python professional and instructor for coding.\\n\\n    Blog\\n    Title: The future of Python and AI\\n    tags: tech, python, coding, AI machine learning\\n    Summarry: I talk about what the future of AI could hold for python developers\\n    Full text: \\n    '"
      ]
     },
     "execution_count": 206,
     "metadata": {},
     "output_type": "execute_result"
    }
   ],
   "source": [
    "title = 'The future of Python and AI'\n",
    "prompt = create_prompt(title)\n",
    "prompt"
   ]
  },
  {
   "cell_type": "code",
   "execution_count": 207,
   "metadata": {},
   "outputs": [],
   "source": [
    "response = openai.chat.completions.create(\n",
    "    model=\"gpt-3.5-turbo\",\n",
    "    messages=[\n",
    "        {\"role\": \"user\", \"content\": prompt},\n",
    "    ],\n",
    "    temperature=0.75,\n",
    "    max_tokens=1024,\n",
    ")"
   ]
  },
  {
   "cell_type": "code",
   "execution_count": 209,
   "metadata": {},
   "outputs": [
    {
     "data": {
      "text/plain": [
       "'Python has long been a popular language for developers, but its role in AI and machine learning is becoming increasingly significant. As advancements in AI continue to progress, the demand for Python developers with expertise in these areas is only going to increase.\\n\\nOne of the reasons Python is so well-suited for AI and machine learning is its simplicity and readability. This makes it easier for developers to quickly prototype and test algorithms, which is crucial in the fast-paced world of AI development.\\n\\nAdditionally, Python has a vast array of libraries and frameworks that are specifically designed for AI and machine learning, such as TensorFlow, Keras, and scikit-learn. These tools make it easier for developers to implement complex algorithms and models without having to reinvent the wheel.\\n\\nLooking towards the future, Python is likely to continue playing a key role in the development of AI technologies. As AI becomes more integrated into various industries, the demand for Python developers with AI expertise will only continue to grow.\\n\\nOverall, the future looks bright for Python developers who are interested in AI and machine learning. By staying up-to-date on the latest advancements in the field and continuing to hone their skills, Python professionals can position themselves for success in this exciting and rapidly evolving industry.'"
      ]
     },
     "execution_count": 209,
     "metadata": {},
     "output_type": "execute_result"
    }
   ],
   "source": [
    "blog_content = response.choices[0].message.content\n",
    "blog_content"
   ]
  },
  {
   "cell_type": "code",
   "execution_count": null,
   "metadata": {},
   "outputs": [],
   "source": [
    "def dalle2_prompt(title):\n",
    "    prompt = f'3D clay render showing {title}'\n",
    "    return prompt "
   ]
  },
  {
   "cell_type": "code",
   "execution_count": null,
   "metadata": {},
   "outputs": [],
   "source": [
    "image_prompt = dalle2_prompt(title)"
   ]
  },
  {
   "cell_type": "code",
   "execution_count": null,
   "metadata": {},
   "outputs": [],
   "source": [
    "response_img = openai.images.generate(\n",
    "    model=\"dall-e-2\",\n",
    "    #prompt=title,\n",
    "    prompt=better_title,\n",
    "    size=\"1024x1024\",\n",
    "    quality=\"standard\",\n",
    "    n=1,\n",
    ")"
   ]
  },
  {
   "cell_type": "code",
   "execution_count": null,
   "metadata": {},
   "outputs": [],
   "source": []
  }
 ],
 "metadata": {
  "kernelspec": {
   "display_name": "Python 3",
   "language": "python",
   "name": "python3"
  },
  "language_info": {
   "codemirror_mode": {
    "name": "ipython",
    "version": 3
   },
   "file_extension": ".py",
   "mimetype": "text/x-python",
   "name": "python",
   "nbconvert_exporter": "python",
   "pygments_lexer": "ipython3",
   "version": "3.8.10"
  }
 },
 "nbformat": 4,
 "nbformat_minor": 2
}
