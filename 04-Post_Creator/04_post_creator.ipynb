{
 "cells": [
  {
   "cell_type": "markdown",
   "metadata": {},
   "source": [
    "# 04: Automatic Blog Post Creator\n",
    "\n",
    "> \"Discover the power of Artificial Intelligence with OpenAI's powerful API to generate text and images in projects\". Udemy course."
   ]
  },
  {
   "cell_type": "code",
   "execution_count": 73,
   "metadata": {},
   "outputs": [],
   "source": [
    "import os\n",
    "import openai "
   ]
  },
  {
   "cell_type": "code",
   "execution_count": 74,
   "metadata": {},
   "outputs": [],
   "source": [
    "#os.environ[\"OPENAI_API_KEY\"] = \"sk-\"\n",
    "openai.api_key = os.getenv(\"OPENAI_API_KEY\")"
   ]
  },
  {
   "cell_type": "markdown",
   "metadata": {},
   "source": [
    "## Git Automatic Update"
   ]
  },
  {
   "cell_type": "code",
   "execution_count": 75,
   "metadata": {},
   "outputs": [],
   "source": [
    "from git import Repo\n",
    "import git\n",
    "from pathlib import Path"
   ]
  },
  {
   "cell_type": "code",
   "execution_count": 76,
   "metadata": {},
   "outputs": [
    {
     "data": {
      "text/plain": [
       "'/home/tommaselli/Documents/GPT-Projects/04-Post_Creator'"
      ]
     },
     "execution_count": 76,
     "metadata": {},
     "output_type": "execute_result"
    }
   ],
   "source": [
    "pwd"
   ]
  },
  {
   "cell_type": "code",
   "execution_count": 77,
   "metadata": {},
   "outputs": [],
   "source": [
    "PATH_BLOG_REPO = Path('/home/tommaselli/Documents/GPT-Projects/.git')\n",
    "PATH_BLOG = PATH_BLOG_REPO.parent \n",
    "PATH_CONTENT =PATH_BLOG/'content'"
   ]
  },
  {
   "cell_type": "code",
   "execution_count": 78,
   "metadata": {},
   "outputs": [],
   "source": [
    "PATH_CONTENT.mkdir(exist_ok=True,parents=True)"
   ]
  },
  {
   "cell_type": "code",
   "execution_count": 79,
   "metadata": {},
   "outputs": [],
   "source": [
    "def update_blog(commit_message='updates blog'):\n",
    "    # GitPython -- Repo Locatio \n",
    "    repo = Repo(PATH_BLOG_REPO)\n",
    "    # git add .\n",
    "    repo.git.add(all=True)\n",
    "    # git commit -m \"updates blog\"\n",
    "    repo.index.commit(commit_message)\n",
    "    origin = repo.remote(name='origin')\n",
    "    origin.push()"
   ]
  },
  {
   "cell_type": "markdown",
   "metadata": {},
   "source": [
    "update in github (working):"
   ]
  },
  {
   "cell_type": "code",
   "execution_count": 80,
   "metadata": {},
   "outputs": [],
   "source": [
    "random_text = 'orkepofmkmwẽw'"
   ]
  },
  {
   "cell_type": "code",
   "execution_count": 81,
   "metadata": {},
   "outputs": [],
   "source": [
    "#with open(PATH_BLOG/'index.html', 'w') as f:\n",
    "#    f.write(random_text)\n",
    "\n",
    "#update_blog()"
   ]
  },
  {
   "cell_type": "markdown",
   "metadata": {},
   "source": [
    "## Insert HTML with GPT"
   ]
  },
  {
   "cell_type": "code",
   "execution_count": 82,
   "metadata": {},
   "outputs": [],
   "source": [
    "import shutil"
   ]
  },
  {
   "cell_type": "code",
   "execution_count": 83,
   "metadata": {},
   "outputs": [],
   "source": [
    "def create_new_blog(title, content, cover_image): \n",
    "    cover_image = Path(cover_image)\n",
    "\n",
    "    files = len(list(PATH_CONTENT.glob('*.html')))\n",
    "    new_title = f'{files+1}.html'\n",
    "    path_new_content = PATH_CONTENT/new_title\n",
    "\n",
    "    shutil.copy(cover_iamge, PATH_CONTENT)\n",
    "    if not os.path.exists(path_new_content):\n",
    "        # WRITE A NEW HTML FILE\n",
    "        with open(path_new_content, 'w') as f:\n",
    "            f.write('<!DOCTYPE html>\\n')\n",
    "def create_new_blog(title, content, cover_image): \n",
    "    cover_image = Path(cover_image)\n",
    "\n",
    "    files = len(list(PATH_CONTENT.glob('*.html')))\n",
    "    new_title = f'{files+1}.html'\n",
    "    path_new_content = PATH_CONTENT/new_title\n",
    "\n",
    "    shutil.copy(cover_image, PATH_CONTENT)\n",
    "    if not os.path.exists(path_new_content):\n",
    "        # WRITE A NEW HTML FILE\n",
    "        with open(path_new_content, 'w') as f:\n",
    "            f.write('<!DOCTYPE html>\\n')\n",
    "            f.write('<html>\\n')\n",
    "            f.write('<head>\\n')\n",
    "            f.write('<title>' + title + '</title>\\n')\n",
    "            f.write('</head>\\n')\n",
    "            f.write('<body>\\n')\n",
    "            f.write('<header>\\n')\n",
    "            f.write('<h1>' + title + '</h1>\\n')\n",
    "            f.write('</header>\\n')\n",
    "            f.write('<img src=\"' + cover_image.name + '\">\\n')\n",
    "            ### GPT completion\n",
    "\n",
    "            f.write(content.replace('\\n', '<br>\\n'))\n",
    "            f.write('</body>\\n')\n",
    "            f.write('</html>\\n')\n",
    "            print('Blog created')\n",
    "            return path_new_content\n",
    "            \n",
    "    else: \n",
    "        raise FileExistsError('File already exists')"
   ]
  },
  {
   "cell_type": "code",
   "execution_count": 84,
   "metadata": {},
   "outputs": [
    {
     "name": "stdout",
     "output_type": "stream",
     "text": [
      "Blog created\n"
     ]
    }
   ],
   "source": [
    "path_new_content = create_new_blog('Test Blog', 'This is a test blog', 'cover.png')"
   ]
  },
  {
   "cell_type": "code",
   "execution_count": 85,
   "metadata": {},
   "outputs": [],
   "source": [
    "from bs4 import BeautifulSoup as Soup"
   ]
  },
  {
   "cell_type": "code",
   "execution_count": 86,
   "metadata": {},
   "outputs": [],
   "source": [
    "with open(PATH_BLOG/'index.html') as index:\n",
    "    soup = Soup(index.read())"
   ]
  },
  {
   "cell_type": "code",
   "execution_count": 87,
   "metadata": {},
   "outputs": [
    {
     "data": {
      "text/plain": [
       "'<html><body><a>\\n</a>\\n<a href=\"content/4.html\">\\n 4\\n</a></body></html>'"
      ]
     },
     "execution_count": 87,
     "metadata": {},
     "output_type": "execute_result"
    }
   ],
   "source": [
    "str(soup)"
   ]
  },
  {
   "cell_type": "code",
   "execution_count": 88,
   "metadata": {},
   "outputs": [],
   "source": [
    "# checking duplicate links \n",
    "def check_duplicate(path_new_content, links):\n",
    "    urls = [str(link.get('href')) for link in links] # 1.html, 2.html, 3.html...\n",
    "    content_path = str(Path(*path_new_content.parts[-2:])) # (rel_path)/1.html, check if 1.html is in urls\n",
    "    return content_path in urls"
   ]
  },
  {
   "cell_type": "code",
   "execution_count": 89,
   "metadata": {},
   "outputs": [],
   "source": [
    "def write_index(path_new_content):\n",
    "    with open(PATH_BLOG/'index.html') as index:\n",
    "        soup = Soup(index.read())\n",
    "\n",
    "    links = soup.find_all('a')\n",
    "    try: \n",
    "        last_link = links[-1]\n",
    "    except: \n",
    "        last_link = soup.new_tag('a')\n",
    "        soup.append(last_link)\n",
    "\n",
    "    if check_duplicate(path_new_content, links):\n",
    "        raise ValueError('Duplicate link found')\n",
    "\n",
    "    link_new_blog = soup.new_tag('a', href=Path(*path_new_content.parts[-2:]))\n",
    "    link_new_blog.string = path_new_content.name.split('.')[0]\n",
    "    last_link.insert_after(link_new_blog)\n",
    "\n",
    "    with open(PATH_BLOG/'index.html', 'w') as index:\n",
    "        index.write(str(soup.prettify(formatter='html')))"
   ]
  },
  {
   "cell_type": "code",
   "execution_count": 90,
   "metadata": {},
   "outputs": [],
   "source": [
    "write_index(path_new_content)\n",
    "update_blog('Added new blog')"
   ]
  }
 ],
 "metadata": {
  "kernelspec": {
   "display_name": "Python 3",
   "language": "python",
   "name": "python3"
  },
  "language_info": {
   "codemirror_mode": {
    "name": "ipython",
    "version": 3
   },
   "file_extension": ".py",
   "mimetype": "text/x-python",
   "name": "python",
   "nbconvert_exporter": "python",
   "pygments_lexer": "ipython3",
   "version": "3.8.10"
  }
 },
 "nbformat": 4,
 "nbformat_minor": 2
}
