{
 "cells": [
  {
   "cell_type": "markdown",
   "metadata": {},
   "source": [
    "# 05: Sentiment Analyser\n",
    "\n",
    "> \"Discover the power of Artificial Intelligence with OpenAI's powerful API to generate text and images in projects\". Udemy course."
   ]
  },
  {
   "cell_type": "markdown",
   "metadata": {},
   "source": [
    "client id: i3-iwzp1ScZpgu7_Zruelg\n",
    "\n",
    "client secret: cri4X8ZP9Eg_lFgdDW7TD18JjpojSw"
   ]
  },
  {
   "cell_type": "code",
   "execution_count": 91,
   "metadata": {},
   "outputs": [],
   "source": [
    "client_id = 'i3-iwzp1ScZpgu7_Zruelg'\n",
    "client_secret = 'cri4X8ZP9Eg_lFgdDW7TD18JjpojSw'"
   ]
  },
  {
   "cell_type": "code",
   "execution_count": 92,
   "metadata": {},
   "outputs": [],
   "source": [
    "import openai \n",
    "import praw\n",
    "import os"
   ]
  },
  {
   "cell_type": "code",
   "execution_count": 93,
   "metadata": {},
   "outputs": [],
   "source": [
    "reddit = praw.Reddit(client_id=client_id, client_secret=client_secret, user_agent='Sentiment Analysis')"
   ]
  },
  {
   "cell_type": "code",
   "execution_count": 94,
   "metadata": {},
   "outputs": [
    {
     "data": {
      "text/plain": [
       "84"
      ]
     },
     "execution_count": 94,
     "metadata": {},
     "output_type": "execute_result"
    }
   ],
   "source": [
    "subr = reddit.subreddit('football')\n",
    "subr.accounts_active"
   ]
  },
  {
   "cell_type": "code",
   "execution_count": 95,
   "metadata": {},
   "outputs": [
    {
     "name": "stdout",
     "output_type": "stream",
     "text": [
      "/r/Football Daily Discussion Thread\n",
      "**Important Update for r/football - Elevating Content Quality!*\n",
      ">> Thankyou!\n",
      "\n",
      "Would be nice to give them fanboys megathread really. Ronaldo vs Messi megathread so they can be contained, at least for the next 2-3 years they'll still talk about their deities.\n",
      ">> Thank god\n",
      "Dani Alves released from jail after paying €1m bail and serving a quarter of his sentence for rape\n",
      ">> Wow, only one quarter of his sentence. That’s shocking\n",
      ">> The law has always been a minor inconvenience to those with money.\n",
      "Why is there a lack of successful English managers in football?\n",
      ">> because it is the richest league so they just export the best which deprive english managers from big opprutunities. \n",
      "\n",
      "Also, English dont invest in managers like germany. Germany has a formal education for them and produce so many more than english produced\n",
      "\n",
      "I dont think it is wrong if a NT aquire a foreign coach, so english should do that, because fukcing southgate is a clown and failure, and even when he went to euro final and wc quarter he had easy path, so he always lose from teams of same level as england\n",
      ">> It is crazy that the English Premier League has been going since 1992 and no England Managers gave won it. All the top British Managers in that era all come from the west of Scotland for some reason. Fergie, Graham, Dalglish.\n",
      "United States is the two-time champion of the League of Nations.\n",
      ">> Three times.\n",
      ">> The image is in Spanish because I speak Spanish\n"
     ]
    }
   ],
   "source": [
    "for post in subr.hot(limit=5):\n",
    "    print(post.title)\n",
    "    submission = reddit.submission(id=post.id)\n",
    "    # print top 2 comments por title\n",
    "    count = 0 \n",
    "    for comment in submission.comments:\n",
    "        if comment.body == '[deleted]':\n",
    "            continue \n",
    "        print('>> ' + comment.body)\n",
    "        count += 1\n",
    "        if count == 2:\n",
    "            break"
   ]
  },
  {
   "cell_type": "code",
   "execution_count": 96,
   "metadata": {},
   "outputs": [],
   "source": [
    "def get_titles(subr='football', limit=6, num_comm=3, skip=2):\n",
    "    subr = reddit.subreddit(subr)\n",
    "    title_comm = {}\n",
    "    \n",
    "    for counter, post in enumerate(subr.hot(limit=limit)):\n",
    "        if counter < skip:\n",
    "            continue\n",
    "        counter += (1-skip)\n",
    "        title_comm[counter] = ''\n",
    "        submission = reddit.submission(id=post.id)\n",
    "        title = post.title\n",
    "\n",
    "        title_comm[counter] += f'Title: {title} \\n\\n'\n",
    "        title_comm[counter] += 'Comments: \\n\\n'\n",
    "        comm_count = 0\n",
    "        for comment in submission.comments:\n",
    "            if not comment.body == '[deleted]':\n",
    "                title_comm[counter] += f'>> {comment.body} \\n'\n",
    "                comm_count += 1\n",
    "            if comm_count == num_comm:\n",
    "                break\n",
    "    return title_comm "
   ]
  },
  {
   "cell_type": "code",
   "execution_count": 97,
   "metadata": {},
   "outputs": [
    {
     "data": {
      "text/plain": [
       "{1: 'Title: Dani Alves released from jail after paying €1m bail and serving a quarter of his sentence for rape \\n\\nComments: \\n\\n>> Wow, only one quarter of his sentence. That’s shocking \\n>> The law has always been a minor inconvenience to those with money. \\n>> How can you be released on bail if you have already been sentenced, Isnt bail only applicable if your awaiting trial? \\n',\n",
       " 2: 'Title: Why is there a lack of successful English managers in football? \\n\\nComments: \\n\\n>> because it is the richest league so they just export the best which deprive english managers from big opprutunities. \\n\\nAlso, English dont invest in managers like germany. Germany has a formal education for them and produce so many more than english produced\\n\\nI dont think it is wrong if a NT aquire a foreign coach, so english should do that, because fukcing southgate is a clown and failure, and even when he went to euro final and wc quarter he had easy path, so he always lose from teams of same level as england \\n>> It is crazy that the English Premier League has been going since 1992 and no England Managers gave won it. All the top British Managers in that era all come from the west of Scotland for some reason. Fergie, Graham, Dalglish. \\n>> Cause they suck \\n',\n",
       " 3: 'Title: United States is the two-time champion of the League of Nations. \\n\\nComments: \\n\\n>> Three times. \\n>> The image is in Spanish because I speak Spanish \\n>> And the crowd goes mild... \\n',\n",
       " 4: 'Title: How did Ireland convince a legendary coach like Giovanni Trapatoni to manage them? \\n\\nComments: \\n\\n>> An Irish billionaire by the name of Denis O\\'Brien paid large parts of the salaries of both Trap and Martin O\\'Neill. The FAI has been a shit show for many years, with rampant corruption.\\n\\nEdit to add: there\\'s a [book](https://www.dubraybooks.ie/product/champagne-football-pb-9780241990063) called \"Champagne Football: The Rise and Fall of John Delaney and the Football Association of Ireland\" which goes pretty in depth on the shenanigans that went on. \\n>> the saudi arabia for example got big names in coaches. like ricardo and mancini. so it is not unheard of. I think the reason is money, simple as that. It would be mind boggling if ireland doesnt pay him very handsomely \\n>> Money, and international management in a country you don\\'t have an attachment to can be easy, you don\\'t have that many games to manage and if it goes poorly not that many people outside that country would care. \\n'}"
      ]
     },
     "execution_count": 97,
     "metadata": {},
     "output_type": "execute_result"
    }
   ],
   "source": [
    "title_and_comments = get_titles()\n",
    "title_and_comments"
   ]
  },
  {
   "cell_type": "code",
   "execution_count": 98,
   "metadata": {},
   "outputs": [],
   "source": [
    "def create_prompt(title_and_comments):\n",
    "    prompt = 'Return the sentiment of the following posts (positive, negative or neutral): \\n\\n'\n",
    "    return prompt + title_and_comments"
   ]
  },
  {
   "cell_type": "code",
   "execution_count": 99,
   "metadata": {},
   "outputs": [
    {
     "data": {
      "text/plain": [
       "'Return the sentiment of the following posts (positive, negative or neutral): \\n\\nTitle: Dani Alves released from jail after paying €1m bail and serving a quarter of his sentence for rape \\n\\nComments: \\n\\n>> Wow, only one quarter of his sentence. That’s shocking \\n>> The law has always been a minor inconvenience to those with money. \\n>> How can you be released on bail if you have already been sentenced, Isnt bail only applicable if your awaiting trial? \\n'"
      ]
     },
     "execution_count": 99,
     "metadata": {},
     "output_type": "execute_result"
    }
   ],
   "source": [
    "prompt = create_prompt(title_and_comments[1])\n",
    "prompt"
   ]
  },
  {
   "cell_type": "markdown",
   "metadata": {},
   "source": [
    "## Gpt analysis"
   ]
  },
  {
   "cell_type": "code",
   "execution_count": 100,
   "metadata": {},
   "outputs": [],
   "source": [
    "#os.environ[\"OPENAI_API_KEY\"] = \"sk-\"\n",
    "openai.api_key = os.getenv(\"OPENAI_API_KEY\")"
   ]
  },
  {
   "cell_type": "code",
   "execution_count": 101,
   "metadata": {},
   "outputs": [
    {
     "data": {
      "text/plain": [
       "dict_items([(1, 'Title: Dani Alves released from jail after paying €1m bail and serving a quarter of his sentence for rape \\n\\nComments: \\n\\n>> Wow, only one quarter of his sentence. That’s shocking \\n>> The law has always been a minor inconvenience to those with money. \\n>> How can you be released on bail if you have already been sentenced, Isnt bail only applicable if your awaiting trial? \\n'), (2, 'Title: Why is there a lack of successful English managers in football? \\n\\nComments: \\n\\n>> because it is the richest league so they just export the best which deprive english managers from big opprutunities. \\n\\nAlso, English dont invest in managers like germany. Germany has a formal education for them and produce so many more than english produced\\n\\nI dont think it is wrong if a NT aquire a foreign coach, so english should do that, because fukcing southgate is a clown and failure, and even when he went to euro final and wc quarter he had easy path, so he always lose from teams of same level as england \\n>> It is crazy that the English Premier League has been going since 1992 and no England Managers gave won it. All the top British Managers in that era all come from the west of Scotland for some reason. Fergie, Graham, Dalglish. \\n>> Cause they suck \\n'), (3, 'Title: United States is the two-time champion of the League of Nations. \\n\\nComments: \\n\\n>> Three times. \\n>> The image is in Spanish because I speak Spanish \\n>> And the crowd goes mild... \\n'), (4, 'Title: How did Ireland convince a legendary coach like Giovanni Trapatoni to manage them? \\n\\nComments: \\n\\n>> An Irish billionaire by the name of Denis O\\'Brien paid large parts of the salaries of both Trap and Martin O\\'Neill. The FAI has been a shit show for many years, with rampant corruption.\\n\\nEdit to add: there\\'s a [book](https://www.dubraybooks.ie/product/champagne-football-pb-9780241990063) called \"Champagne Football: The Rise and Fall of John Delaney and the Football Association of Ireland\" which goes pretty in depth on the shenanigans that went on. \\n>> the saudi arabia for example got big names in coaches. like ricardo and mancini. so it is not unheard of. I think the reason is money, simple as that. It would be mind boggling if ireland doesnt pay him very handsomely \\n>> Money, and international management in a country you don\\'t have an attachment to can be easy, you don\\'t have that many games to manage and if it goes poorly not that many people outside that country would care. \\n')])"
      ]
     },
     "execution_count": 101,
     "metadata": {},
     "output_type": "execute_result"
    }
   ],
   "source": [
    "title_and_comments.items()"
   ]
  },
  {
   "cell_type": "code",
   "execution_count": 103,
   "metadata": {},
   "outputs": [
    {
     "name": "stdout",
     "output_type": "stream",
     "text": [
      "Title 1\n",
      "Title: Dani Alves released from jail after paying €1m bail and serving a quarter of his sentence for rape \n",
      "\n",
      "Comments: \n",
      "\n",
      ">> Wow, only one quarter of his sentence. That’s shocking \n",
      ">> The law has always been a minor inconvenience to those with money. \n",
      ">> How can you be released on bail if you have already been sentenced, Isnt bail only applicable if your awaiting trial? \n",
      " \n",
      "sentiment: Negative\n",
      "----------------------------------------\n",
      "Title 2\n",
      "Title: Why is there a lack of successful English managers in football? \n",
      "\n",
      "Comments: \n",
      "\n",
      ">> because it is the richest league so they just export the best which deprive english managers from big opprutunities. \n",
      "\n",
      "Also, English dont invest in managers like germany. Germany has a formal education for them and produce so many more than english produced\n",
      "\n",
      "I dont think it is wrong if a NT aquire a foreign coach, so english should do that, because fukcing southgate is a clown and failure, and even when he went to euro final and wc quarter he had easy path, so he always lose from teams of same level as england \n",
      ">> It is crazy that the English Premier League has been going since 1992 and no England Managers gave won it. All the top British Managers in that era all come from the west of Scotland for some reason. Fergie, Graham, Dalglish. \n",
      ">> Cause they suck \n",
      " \n",
      "sentiment: Negative\n",
      "----------------------------------------\n",
      "Title 3\n",
      "Title: United States is the two-time champion of the League of Nations. \n",
      "\n",
      "Comments: \n",
      "\n",
      ">> Three times. \n",
      ">> The image is in Spanish because I speak Spanish \n",
      ">> And the crowd goes mild... \n",
      " \n",
      "sentiment: Neutral\n",
      "----------------------------------------\n",
      "Title 4\n",
      "Title: How did Ireland convince a legendary coach like Giovanni Trapatoni to manage them? \n",
      "\n",
      "Comments: \n",
      "\n",
      ">> An Irish billionaire by the name of Denis O'Brien paid large parts of the salaries of both Trap and Martin O'Neill. The FAI has been a shit show for many years, with rampant corruption.\n",
      "\n",
      "Edit to add: there's a [book](https://www.dubraybooks.ie/product/champagne-football-pb-9780241990063) called \"Champagne Football: The Rise and Fall of John Delaney and the Football Association of Ireland\" which goes pretty in depth on the shenanigans that went on. \n",
      ">> the saudi arabia for example got big names in coaches. like ricardo and mancini. so it is not unheard of. I think the reason is money, simple as that. It would be mind boggling if ireland doesnt pay him very handsomely \n",
      ">> Money, and international management in a country you don't have an attachment to can be easy, you don't have that many games to manage and if it goes poorly not that many people outside that country would care. \n",
      " \n",
      "sentiment: Negative\n",
      "----------------------------------------\n"
     ]
    }
   ],
   "source": [
    "for key, title_with_comments in title_and_comments.items():\n",
    "    prompt = create_prompt(title_with_comments)\n",
    "    \n",
    "    response = openai.chat.completions.create(\n",
    "        model=\"gpt-3.5-turbo\",\n",
    "        messages=[\n",
    "            {\"role\": \"user\", \"content\": prompt},\n",
    "        ],\n",
    "        temperature=0,\n",
    "        max_tokens=256,\n",
    "        top_p=1,\n",
    "    )\n",
    "    print(f'Title {key}\\n{title_with_comments} \\nsentiment: {response.choices[0].message.content}')\n",
    "    print('-'*40)"
   ]
  }
 ],
 "metadata": {
  "kernelspec": {
   "display_name": "Python 3",
   "language": "python",
   "name": "python3"
  },
  "language_info": {
   "codemirror_mode": {
    "name": "ipython",
    "version": 3
   },
   "file_extension": ".py",
   "mimetype": "text/x-python",
   "name": "python",
   "nbconvert_exporter": "python",
   "pygments_lexer": "ipython3",
   "version": "3.8.10"
  }
 },
 "nbformat": 4,
 "nbformat_minor": 2
}
