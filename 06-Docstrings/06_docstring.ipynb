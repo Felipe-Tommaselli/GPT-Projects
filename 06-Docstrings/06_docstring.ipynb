{
 "cells": [
  {
   "cell_type": "markdown",
   "metadata": {},
   "source": [
    "# 06: Automatic Code Explainer- Docstrings\n",
    "\n",
    "> \"Discover the power of Artificial Intelligence with OpenAI's powerful API to generate text and images in projects\". Udemy course."
   ]
  },
  {
   "cell_type": "code",
   "execution_count": 108,
   "metadata": {},
   "outputs": [],
   "source": [
    "import os \n",
    "import openai "
   ]
  },
  {
   "cell_type": "code",
   "execution_count": 109,
   "metadata": {},
   "outputs": [],
   "source": [
    "#os.environ[\"OPENAI_API_KEY\"] = \"sk-\"\n",
    "openai.api_key = os.getenv(\"OPENAI_API_KEY\")"
   ]
  },
  {
   "cell_type": "markdown",
   "metadata": {},
   "source": [
    "## Docstrings"
   ]
  },
  {
   "cell_type": "code",
   "execution_count": 110,
   "metadata": {},
   "outputs": [],
   "source": [
    "def hello(name):\n",
    "    print(f'Hello {name}!')"
   ]
  },
  {
   "cell_type": "code",
   "execution_count": 111,
   "metadata": {},
   "outputs": [],
   "source": [
    "def docstring_prompt(code):\n",
    "    prompt = f'{code}\\n # A high quality python docstring for the above code is: \\n\\\"\\\"\\\"\\n'\n",
    "    return prompt"
   ]
  },
  {
   "cell_type": "code",
   "execution_count": 112,
   "metadata": {},
   "outputs": [
    {
     "name": "stdout",
     "output_type": "stream",
     "text": [
      "def hello(name):\n",
      "    print(f'Hello {name}!')\n",
      "\n"
     ]
    }
   ],
   "source": [
    "import inspect \n",
    "\n",
    "print(inspect.getsource(hello))"
   ]
  },
  {
   "cell_type": "code",
   "execution_count": 113,
   "metadata": {},
   "outputs": [
    {
     "name": "stdout",
     "output_type": "stream",
     "text": [
      "def hello(name):\n",
      "    print(f'Hello {name}!')\n",
      "\n",
      " # A high quality python docstring for the above code is: \n",
      "\"\"\"\n",
      "\n"
     ]
    }
   ],
   "source": [
    "dp = docstring_prompt(inspect.getsource(hello))\n",
    "print(dp)"
   ]
  },
  {
   "cell_type": "code",
   "execution_count": 114,
   "metadata": {},
   "outputs": [],
   "source": [
    "def gpt_call(prompt):\n",
    "    response = openai.chat.completions.create(\n",
    "        model=\"gpt-3.5-turbo\",\n",
    "        messages=[\n",
    "            {\"role\": \"user\", \"content\": prompt},\n",
    "        ],\n",
    "        temperature=0,\n",
    "        max_tokens=100,\n",
    "        stop=[\"\\\"\\\"\\\"\"]\n",
    "    )\n",
    "    return response.choices[0].message.content"
   ]
  },
  {
   "cell_type": "code",
   "execution_count": 115,
   "metadata": {},
   "outputs": [
    {
     "name": "stdout",
     "output_type": "stream",
     "text": [
      "This function takes a name as input and prints a greeting message using that name. \n",
      ":param name: a string representing the name of the person to greet\n",
      ":return: None\n",
      "\n"
     ]
    }
   ],
   "source": [
    "response_txt = gpt_call(dp)\n",
    "print(response_txt)"
   ]
  },
  {
   "cell_type": "markdown",
   "metadata": {},
   "source": [
    "## Merging comments to code "
   ]
  },
  {
   "cell_type": "code",
   "execution_count": 116,
   "metadata": {},
   "outputs": [],
   "source": [
    "def merge(code, docstring):\n",
    "    code_str = inspect.getsource(code)\n",
    "    split = code_str.split(\"\\n\")\n",
    "    first, second = split[0], \"\\n\".join(split[1:]) # ['def...', 'code...']\n",
    "    return f'{first}\\n  \\\"\\\"\\\"{docstring}   \\\"\\\"\\\"\\n{second}'\n"
   ]
  },
  {
   "cell_type": "code",
   "execution_count": 117,
   "metadata": {},
   "outputs": [
    {
     "name": "stdout",
     "output_type": "stream",
     "text": [
      "def hello(name):\n",
      "  \"\"\"This function takes a name as input and prints a greeting message using that name. \n",
      ":param name: a string representing the name of the person to greet\n",
      ":return: None\n",
      "   \"\"\"\n",
      "    print(f'Hello {name}!')\n",
      "\n"
     ]
    }
   ],
   "source": [
    "me = merge(hello, response_txt)\n",
    "print(me)"
   ]
  },
  {
   "cell_type": "markdown",
   "metadata": {},
   "source": [
    "## test with complex function"
   ]
  },
  {
   "cell_type": "code",
   "execution_count": 118,
   "metadata": {},
   "outputs": [],
   "source": [
    "def get_titles(subr='football', limit=6, num_comm=3, skip=2):\n",
    "    subr = reddit.subreddit(subr)\n",
    "    title_comm = {}\n",
    "    \n",
    "    for counter, post in enumerate(subr.hot(limit=limit)):\n",
    "        if counter < skip:\n",
    "            continue\n",
    "        counter += (1-skip)\n",
    "        title_comm[counter] = ''\n",
    "        submission = reddit.submission(id=post.id)\n",
    "        title = post.title\n",
    "\n",
    "        title_comm[counter] += f'Title: {title} \\n\\n'\n",
    "        title_comm[counter] += 'Comments: \\n\\n'\n",
    "        comm_count = 0\n",
    "        for comment in submission.comments:\n",
    "            if not comment.body == '[deleted]':\n",
    "                title_comm[counter] += f'>> {comment.body} \\n'\n",
    "                comm_count += 1\n",
    "            if comm_count == num_comm:\n",
    "                break\n",
    "    return title_comm "
   ]
  },
  {
   "cell_type": "code",
   "execution_count": 119,
   "metadata": {},
   "outputs": [
    {
     "name": "stdout",
     "output_type": "stream",
     "text": [
      "def get_titles(subr='football', limit=6, num_comm=3, skip=2):\n",
      "  \"\"\"This function retrieves titles and a specified number of comments from the hot posts of a given subreddit. It allows for customization of the subreddit, limit of posts to retrieve, number of comments per post, and number of posts to skip. The function returns a dictionary where the keys are the post numbers and the values are the titles and comments of those posts.\n",
      "\n",
      "Parameters:\n",
      "- subr: (str) The subreddit to retrieve posts from. Default is 'football'.\n",
      "- limit: (int) The maximum number   \"\"\"\n",
      "    subr = reddit.subreddit(subr)\n",
      "    title_comm = {}\n",
      "    \n",
      "    for counter, post in enumerate(subr.hot(limit=limit)):\n",
      "        if counter < skip:\n",
      "            continue\n",
      "        counter += (1-skip)\n",
      "        title_comm[counter] = ''\n",
      "        submission = reddit.submission(id=post.id)\n",
      "        title = post.title\n",
      "\n",
      "        title_comm[counter] += f'Title: {title} \\n\\n'\n",
      "        title_comm[counter] += 'Comments: \\n\\n'\n",
      "        comm_count = 0\n",
      "        for comment in submission.comments:\n",
      "            if not comment.body == '[deleted]':\n",
      "                title_comm[counter] += f'>> {comment.body} \\n'\n",
      "                comm_count += 1\n",
      "            if comm_count == num_comm:\n",
      "                break\n",
      "    return title_comm \n",
      "\n"
     ]
    }
   ],
   "source": [
    "dp = docstring_prompt(inspect.getsource(get_titles))\n",
    "text = gpt_call(dp)\n",
    "final = merge(get_titles, text)\n",
    "\n",
    "print(final)"
   ]
  }
 ],
 "metadata": {
  "kernelspec": {
   "display_name": "Python 3",
   "language": "python",
   "name": "python3"
  },
  "language_info": {
   "codemirror_mode": {
    "name": "ipython",
    "version": 3
   },
   "file_extension": ".py",
   "mimetype": "text/x-python",
   "name": "python",
   "nbconvert_exporter": "python",
   "pygments_lexer": "ipython3",
   "version": "3.8.10"
  }
 },
 "nbformat": 4,
 "nbformat_minor": 2
}
