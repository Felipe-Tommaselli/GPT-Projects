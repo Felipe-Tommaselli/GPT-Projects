{
 "cells": [
  {
   "cell_type": "markdown",
   "metadata": {},
   "source": [
    "# 02: Reciepe and Dish Image Cretor\n",
    "\n",
    "> \"Discover the power of Artificial Intelligence with OpenAI's powerful API to generate text and images in projects\". Udemy course."
   ]
  },
  {
   "cell_type": "code",
   "execution_count": 57,
   "metadata": {},
   "outputs": [],
   "source": [
    "import os\n",
    "import openai "
   ]
  },
  {
   "cell_type": "code",
   "execution_count": 58,
   "metadata": {},
   "outputs": [],
   "source": [
    "#os.environ[\"OPENAI_API_KEY\"] = \"sk-\"\n",
    "openai.api_key = os.getenv(\"OPENAI_API_KEY\")\n"
   ]
  },
  {
   "cell_type": "markdown",
   "metadata": {},
   "source": [
    "## Get reciepe from LLM"
   ]
  },
  {
   "cell_type": "code",
   "execution_count": 59,
   "metadata": {},
   "outputs": [],
   "source": [
    "def create_dish_prompt(list_ingredients):\n",
    "    prompt = f\"Create a detailed recipe base on only the following ingredients: {', '.join(list_ingredients)}.\\n\"\\\n",
    "        + f'Additionally, assign a title starting with \"Recipe Title:\".' \n",
    "    return prompt "
   ]
  },
  {
   "cell_type": "code",
   "execution_count": 60,
   "metadata": {},
   "outputs": [
    {
     "name": "stdout",
     "output_type": "stream",
     "text": [
      "Create a detailed recipe base on only the following ingredients: chicken, tomato, onion, garlic, salt, pepper, olive oil, pasta, cheese, parsley.\n",
      "Additionally, assign a title starting with \"Recipe Title:\".\n"
     ]
    }
   ],
   "source": [
    "dish = create_dish_prompt(['chicken', 'tomato', 'onion', 'garlic', 'salt', 'pepper', 'olive oil', 'pasta', 'cheese', 'parsley'])\n",
    "print(dish)"
   ]
  },
  {
   "cell_type": "code",
   "execution_count": 61,
   "metadata": {},
   "outputs": [],
   "source": [
    "response = openai.chat.completions.create(\n",
    "    model=\"gpt-3.5-turbo\",\n",
    "    messages=[\n",
    "        {\"role\": \"user\", \"content\": dish},\n",
    "    ],\n",
    "    temperature=0.75,\n",
    "    max_tokens=512,\n",
    ")"
   ]
  },
  {
   "cell_type": "code",
   "execution_count": 62,
   "metadata": {},
   "outputs": [
    {
     "name": "stdout",
     "output_type": "stream",
     "text": [
      "Recipe Title: Cheesy Chicken Pasta with Tomato and Garlic\n",
      "\n",
      "Ingredients:\n",
      "- 1 pound of chicken breast, cut into bite-sized pieces\n",
      "- 1 cup of cherry tomatoes, halved\n",
      "- 1 onion, chopped\n",
      "- 4 cloves of garlic, minced\n",
      "- Salt and pepper to taste\n",
      "- 2 tablespoons of olive oil\n",
      "- 8 ounces of pasta\n",
      "- 1 cup of shredded cheese (such as mozzarella or parmesan)\n",
      "- Fresh parsley, chopped for garnish\n",
      "\n",
      "Instructions:\n",
      "1. Cook the pasta according to package instructions. Drain and set aside.\n",
      "2. In a large skillet, heat olive oil over medium heat. Add the chicken pieces and cook until browned on all sides, about 5-7 minutes.\n",
      "3. Add the chopped onion and minced garlic to the skillet. Cook until the onion is translucent and the garlic is fragrant, about 2-3 minutes.\n",
      "4. Add the halved cherry tomatoes to the skillet and cook for another 3-4 minutes, until they start to soften.\n",
      "5. Season the chicken and tomato mixture with salt and pepper to taste.\n",
      "6. Add the cooked pasta to the skillet and stir to combine all the ingredients.\n",
      "7. Sprinkle the shredded cheese over the top of the pasta mixture. Cover the skillet with a lid and let the cheese melt, about 2-3 minutes.\n",
      "8. Once the cheese has melted, remove the skillet from heat and garnish with chopped parsley.\n",
      "9. Serve the cheesy chicken pasta hot and enjoy!\n",
      "\n",
      "This dish is perfect for a quick and easy weeknight dinner, and the combination of flavors from the tomato, garlic, and cheese make it a crowd-pleaser. Enjoy!\n"
     ]
    }
   ],
   "source": [
    "response_txt = response.choices[0].message.content\n",
    "print(response_txt)"
   ]
  },
  {
   "cell_type": "markdown",
   "metadata": {},
   "source": [
    "## Title extraction"
   ]
  },
  {
   "cell_type": "code",
   "execution_count": 63,
   "metadata": {},
   "outputs": [],
   "source": [
    "import re "
   ]
  },
  {
   "cell_type": "code",
   "execution_count": 64,
   "metadata": {},
   "outputs": [
    {
     "name": "stdout",
     "output_type": "stream",
     "text": [
      "['', ' Cheesy Chicken Pasta with Tomato and Garlic\\n\\nIngredients:\\n- 1 pound of chicken breast, cut into bite-sized pieces\\n- 1 cup of cherry tomatoes, halved\\n- 1 onion, chopped\\n- 4 cloves of garlic, minced\\n- Salt and pepper to taste\\n- 2 tablespoons of olive oil\\n- 8 ounces of pasta\\n- 1 cup of shredded cheese (such as mozzarella or parmesan)\\n- Fresh parsley, chopped for garnish\\n\\nInstructions:\\n1. Cook the pasta according to package instructions. Drain and set aside.\\n2. In a large skillet, heat olive oil over medium heat. Add the chicken pieces and cook until browned on all sides, about 5-7 minutes.\\n3. Add the chopped onion and minced garlic to the skillet. Cook until the onion is translucent and the garlic is fragrant, about 2-3 minutes.\\n4. Add the halved cherry tomatoes to the skillet and cook for another 3-4 minutes, until they start to soften.\\n5. Season the chicken and tomato mixture with salt and pepper to taste.\\n6. Add the cooked pasta to the skillet and stir to combine all the ingredients.\\n7. Sprinkle the shredded cheese over the top of the pasta mixture. Cover the skillet with a lid and let the cheese melt, about 2-3 minutes.\\n8. Once the cheese has melted, remove the skillet from heat and garnish with chopped parsley.\\n9. Serve the cheesy chicken pasta hot and enjoy!\\n\\nThis dish is perfect for a quick and easy weeknight dinner, and the combination of flavors from the tomato, garlic, and cheese make it a crowd-pleaser. Enjoy!']\n"
     ]
    }
   ],
   "source": [
    "response_list = response_txt.split('Recipe Title:')\n",
    "print(response_list)"
   ]
  },
  {
   "cell_type": "code",
   "execution_count": 65,
   "metadata": {},
   "outputs": [
    {
     "data": {
      "text/plain": [
       "['Recipe Title: Cheesy Chicken Pasta with Tomato and Garlic']"
      ]
     },
     "execution_count": 65,
     "metadata": {},
     "output_type": "execute_result"
    }
   ],
   "source": [
    "def extract_title(recipe): \n",
    "    return re.findall('^.*Recipe Title: .*$', recipe, re.MULTILINE)\n",
    "\n",
    "extract_title(response_txt)"
   ]
  },
  {
   "cell_type": "code",
   "execution_count": 66,
   "metadata": {},
   "outputs": [
    {
     "data": {
      "text/plain": [
       "'Cheesy Chicken Pasta with Tomato and Garlic'"
      ]
     },
     "execution_count": 66,
     "metadata": {},
     "output_type": "execute_result"
    }
   ],
   "source": [
    "title = extract_title(response_txt)[0].strip().split(': ')[1]\n",
    "title"
   ]
  },
  {
   "cell_type": "code",
   "execution_count": 67,
   "metadata": {},
   "outputs": [],
   "source": [
    "def dalle2_prompt(reciple_title): \n",
    "    # promp engineering:\n",
    "    prompt = f'{title}, professional food photography, 15mm, studio lighting'\n",
    "    return prompt\n",
    "\n",
    "better_title = dalle2_prompt(title)"
   ]
  },
  {
   "cell_type": "markdown",
   "metadata": {},
   "source": [
    "## Get Image w/ DALLE"
   ]
  },
  {
   "cell_type": "code",
   "execution_count": 68,
   "metadata": {},
   "outputs": [],
   "source": [
    "response_img = openai.images.generate(\n",
    "    model=\"dall-e-2\",\n",
    "    #prompt=title,\n",
    "    prompt=better_title,\n",
    "    size=\"1024x1024\",\n",
    "    quality=\"standard\",\n",
    "    n=1,\n",
    ")"
   ]
  },
  {
   "cell_type": "code",
   "execution_count": 69,
   "metadata": {},
   "outputs": [],
   "source": [
    "img_url = response_img.data[0].url"
   ]
  },
  {
   "cell_type": "code",
   "execution_count": 70,
   "metadata": {},
   "outputs": [],
   "source": [
    "import requests\n",
    "import shutil "
   ]
  },
  {
   "cell_type": "code",
   "execution_count": 71,
   "metadata": {},
   "outputs": [],
   "source": [
    "\n",
    "def save_image(img_url, file_name):\n",
    "    image_res = requests.get(img_url, stream=True)\n",
    "    if image_res.status_code == 200: \n",
    "        with open(file_name, 'wb') as f:\n",
    "            shutil.copyfileobj(image_res.raw, f)\n",
    "    else:\n",
    "        print('ERROR LOADING IMAGE')\n",
    "    \n",
    "    return image_res.status_code\n"
   ]
  },
  {
   "cell_type": "code",
   "execution_count": 72,
   "metadata": {},
   "outputs": [
    {
     "data": {
      "text/plain": [
       "200"
      ]
     },
     "execution_count": 72,
     "metadata": {},
     "output_type": "execute_result"
    }
   ],
   "source": [
    "save_image(img_url, 'example.png') # 200 == ok "
   ]
  }
 ],
 "metadata": {
  "kernelspec": {
   "display_name": "Python 3",
   "language": "python",
   "name": "python3"
  },
  "language_info": {
   "codemirror_mode": {
    "name": "ipython",
    "version": 3
   },
   "file_extension": ".py",
   "mimetype": "text/x-python",
   "name": "python",
   "nbconvert_exporter": "python",
   "pygments_lexer": "ipython3",
   "version": "3.8.10"
  }
 },
 "nbformat": 4,
 "nbformat_minor": 2
}
