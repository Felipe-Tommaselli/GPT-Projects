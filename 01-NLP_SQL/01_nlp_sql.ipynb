{
 "cells": [
  {
   "cell_type": "markdown",
   "metadata": {},
   "source": [
    "# NLP 2 SQL\n",
    "\n",
    "> \"Discover the power of Artificial Intelligence with OpenAI's powerful API to generate text and images in projects\". Udemy course."
   ]
  },
  {
   "cell_type": "code",
   "execution_count": 33,
   "metadata": {},
   "outputs": [],
   "source": [
    "import os \n",
    "import openai           \n",
    "import pandas as pd\n",
    "\n",
    "import sqlalchemy\n",
    "from sqlalchemy import create_engine, MetaData\n",
    "from sqlalchemy import text"
   ]
  },
  {
   "cell_type": "code",
   "execution_count": 34,
   "metadata": {},
   "outputs": [],
   "source": [
    "openai.api_key = os.getenv(\"OPENAI_API_KEY\") "
   ]
  },
  {
   "cell_type": "markdown",
   "metadata": {},
   "source": [
    "## SQL Connection"
   ]
  },
  {
   "cell_type": "code",
   "execution_count": 35,
   "metadata": {},
   "outputs": [
    {
     "data": {
      "text/html": [
       "<div>\n",
       "<style scoped>\n",
       "    .dataframe tbody tr th:only-of-type {\n",
       "        vertical-align: middle;\n",
       "    }\n",
       "\n",
       "    .dataframe tbody tr th {\n",
       "        vertical-align: top;\n",
       "    }\n",
       "\n",
       "    .dataframe thead th {\n",
       "        text-align: right;\n",
       "    }\n",
       "</style>\n",
       "<table border=\"1\" class=\"dataframe\">\n",
       "  <thead>\n",
       "    <tr style=\"text-align: right;\">\n",
       "      <th></th>\n",
       "      <th>step</th>\n",
       "      <th>m1</th>\n",
       "      <th>m2</th>\n",
       "      <th>b1</th>\n",
       "      <th>b2</th>\n",
       "    </tr>\n",
       "  </thead>\n",
       "  <tbody>\n",
       "    <tr>\n",
       "      <th>0</th>\n",
       "      <td>1</td>\n",
       "      <td>-1.732051</td>\n",
       "      <td>-1.732051</td>\n",
       "      <td>92.937132</td>\n",
       "      <td>300.937132</td>\n",
       "    </tr>\n",
       "    <tr>\n",
       "      <th>1</th>\n",
       "      <td>2</td>\n",
       "      <td>-1.732051</td>\n",
       "      <td>-1.732051</td>\n",
       "      <td>125.740979</td>\n",
       "      <td>269.740979</td>\n",
       "    </tr>\n",
       "    <tr>\n",
       "      <th>2</th>\n",
       "      <td>3</td>\n",
       "      <td>-1.732051</td>\n",
       "      <td>-1.732051</td>\n",
       "      <td>91.329436</td>\n",
       "      <td>299.329436</td>\n",
       "    </tr>\n",
       "    <tr>\n",
       "      <th>3</th>\n",
       "      <td>4</td>\n",
       "      <td>-1.804048</td>\n",
       "      <td>-1.804048</td>\n",
       "      <td>92.221126</td>\n",
       "      <td>314.988982</td>\n",
       "    </tr>\n",
       "    <tr>\n",
       "      <th>4</th>\n",
       "      <td>5</td>\n",
       "      <td>-1.804048</td>\n",
       "      <td>-1.804048</td>\n",
       "      <td>129.866337</td>\n",
       "      <td>278.378241</td>\n",
       "    </tr>\n",
       "  </tbody>\n",
       "</table>\n",
       "</div>"
      ],
      "text/plain": [
       "   step        m1        m2          b1          b2\n",
       "0     1 -1.732051 -1.732051   92.937132  300.937132\n",
       "1     2 -1.732051 -1.732051  125.740979  269.740979\n",
       "2     3 -1.732051 -1.732051   91.329436  299.329436\n",
       "3     4 -1.804048 -1.804048   92.221126  314.988982\n",
       "4     5 -1.804048 -1.804048  129.866337  278.378241"
      ]
     },
     "execution_count": 35,
     "metadata": {},
     "output_type": "execute_result"
    }
   ],
   "source": [
    "# Artificial_Label_Data7.csv\n",
    "df = pd.read_csv(\"Artificial_Label_Data3.csv\")\n",
    "df.head(5)"
   ]
  },
  {
   "cell_type": "markdown",
   "metadata": {},
   "source": []
  },
  {
   "cell_type": "code",
   "execution_count": 36,
   "metadata": {},
   "outputs": [],
   "source": [
    "# Create an in-memory SQLite engine\n",
    "#temp_db = create_engine('sqlite:///:memory:', echo=True)\n",
    "\n",
    "# Create a MetaData object and bind it to the engine\n",
    "#metadata = MetaData()\n",
    "#metadata.bind = temp_db"
   ]
  },
  {
   "cell_type": "code",
   "execution_count": 37,
   "metadata": {},
   "outputs": [],
   "source": [
    "# Use the DataFrame's to_sql method to write data to the database\n",
    "#df.to_sql(name='Labels', con=temp_db, index=False, if_exists='replace')"
   ]
  },
  {
   "cell_type": "markdown",
   "metadata": {},
   "source": [
    "> not working, don't know why! for all instances, I am jumping directly to NLP "
   ]
  },
  {
   "cell_type": "markdown",
   "metadata": {},
   "source": [
    "## Promp Pre-Training"
   ]
  },
  {
   "cell_type": "code",
   "execution_count": 38,
   "metadata": {},
   "outputs": [
    {
     "name": "stdout",
     "output_type": "stream",
     "text": [
      "### sqlite SQL table, w/ properties: \n",
      "    # \n",
      "    # Labels(step, m1, m2, b1, b2)\n",
      "    \n"
     ]
    }
   ],
   "source": [
    "def create_table_def(df):\n",
    "    prompt = '''### sqlite SQL table, w/ properties: \n",
    "    # \n",
    "    # Labels({})\n",
    "    '''.format(','.join(str(col) for col in df.columns))\n",
    "    return prompt\n",
    "\n",
    "print(create_table_def(df))"
   ]
  },
  {
   "cell_type": "code",
   "execution_count": 39,
   "metadata": {},
   "outputs": [],
   "source": [
    "def prompt_in():\n",
    "    text = input(\"Enter your promp:\")\n",
    "    return text\n",
    "\n",
    "#prompt_in()"
   ]
  },
  {
   "cell_type": "code",
   "execution_count": 40,
   "metadata": {},
   "outputs": [],
   "source": [
    "def combine_prompts(df, query: str) -> str:\n",
    "    defin = create_table_def(df)\n",
    "    query_init = f\"### A query to answer: {query}\\nSELECT\"\n",
    "    return defin + query_init"
   ]
  },
  {
   "cell_type": "code",
   "execution_count": 41,
   "metadata": {},
   "outputs": [
    {
     "data": {
      "text/plain": [
       "'### sqlite SQL table, w/ properties: \\n    # \\n    # Labels(step, m1, m2, b1, b2)\\n    ### A query to answer: grab the 10 highest labels values\\nSELECT'"
      ]
     },
     "execution_count": 41,
     "metadata": {},
     "output_type": "execute_result"
    }
   ],
   "source": [
    "#nlp_text = prompt_in()\n",
    "nlp_text = 'grab the 10 highest labels values'\n",
    "combine_prompts(df, nlp_text)"
   ]
  },
  {
   "cell_type": "markdown",
   "metadata": {},
   "source": [
    "## NLP w/ GPT Prompt"
   ]
  },
  {
   "cell_type": "code",
   "execution_count": 42,
   "metadata": {},
   "outputs": [],
   "source": [
    "response = openai.chat.completions.create(\n",
    "    model=\"gpt-3.5-turbo\",\n",
    "    messages=[\n",
    "        {\"role\": \"user\", \"content\": combine_prompts(df, nlp_text)},\n",
    "    ],\n",
    "    temperature=0,\n",
    "    max_tokens=150,\n",
    "    top_p=1,\n",
    "    frequency_penalty=0,\n",
    "    presence_penalty=0,\n",
    "    stop=[\"#\", ';']\n",
    ")\n",
    "    "
   ]
  },
  {
   "cell_type": "code",
   "execution_count": 50,
   "metadata": {},
   "outputs": [
    {
     "name": "stdout",
     "output_type": "stream",
     "text": [
      " * \n",
      "FROM Labels\n",
      "ORDER BY step DESC\n",
      "LIMIT 10\n"
     ]
    }
   ],
   "source": [
    "print(response.choices[0].message.content)"
   ]
  }
 ],
 "metadata": {
  "kernelspec": {
   "display_name": "Python 3",
   "language": "python",
   "name": "python3"
  },
  "language_info": {
   "codemirror_mode": {
    "name": "ipython",
    "version": 3
   },
   "file_extension": ".py",
   "mimetype": "text/x-python",
   "name": "python",
   "nbconvert_exporter": "python",
   "pygments_lexer": "ipython3",
   "version": "3.8.10"
  }
 },
 "nbformat": 4,
 "nbformat_minor": 2
}
